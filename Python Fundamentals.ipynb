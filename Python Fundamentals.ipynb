{
 "cells": [
  {
   "cell_type": "markdown",
   "id": "4be272d6",
   "metadata": {},
   "source": [
    "# Hello World"
   ]
  },
  {
   "cell_type": "code",
   "execution_count": 14,
   "id": "1b8e710f",
   "metadata": {},
   "outputs": [
    {
     "name": "stdout",
     "output_type": "stream",
     "text": [
      "hello world\n"
     ]
    }
   ],
   "source": [
    "# printing my first message\n",
    "print('hello world')"
   ]
  },
  {
   "cell_type": "code",
   "execution_count": 25,
   "id": "b732813a",
   "metadata": {},
   "outputs": [
    {
     "data": {
      "text/plain": [
       "'hello world'"
      ]
     },
     "execution_count": 25,
     "metadata": {},
     "output_type": "execute_result"
    }
   ],
   "source": [
    "# jupyter auto prints the last line of code without calling the function\n",
    "'hello world'"
   ]
  },
  {
   "cell_type": "code",
   "execution_count": 13,
   "id": "3c011035",
   "metadata": {},
   "outputs": [
    {
     "name": "stdout",
     "output_type": "stream",
     "text": [
      "Naz\n"
     ]
    }
   ],
   "source": [
    "# this will output my name\n",
    "print('Naz')"
   ]
  },
  {
   "cell_type": "markdown",
   "id": "70ed06d9",
   "metadata": {},
   "source": [
    "# Data Types"
   ]
  },
  {
   "cell_type": "code",
   "execution_count": 15,
   "id": "aeffc7a2",
   "metadata": {},
   "outputs": [
    {
     "data": {
      "text/plain": [
       "int"
      ]
     },
     "execution_count": 15,
     "metadata": {},
     "output_type": "execute_result"
    }
   ],
   "source": [
    "#integer - whole number (no decimals)\n",
    "type(1)"
   ]
  },
  {
   "cell_type": "code",
   "execution_count": 16,
   "id": "7c23ad7f",
   "metadata": {},
   "outputs": [
    {
     "data": {
      "text/plain": [
       "float"
      ]
     },
     "execution_count": 16,
     "metadata": {},
     "output_type": "execute_result"
    }
   ],
   "source": [
    "#float - number with decimal\n",
    "type(1.3)"
   ]
  },
  {
   "cell_type": "code",
   "execution_count": 19,
   "id": "d651765d",
   "metadata": {},
   "outputs": [
    {
     "data": {
      "text/plain": [
       "0.19999999999999996"
      ]
     },
     "execution_count": 19,
     "metadata": {},
     "output_type": "execute_result"
    }
   ],
   "source": [
    "#operations\n",
    "1+(2-3)*(4/5)"
   ]
  },
  {
   "cell_type": "code",
   "execution_count": 20,
   "id": "5d5e88ee",
   "metadata": {},
   "outputs": [
    {
     "data": {
      "text/plain": [
       "bool"
      ]
     },
     "execution_count": 20,
     "metadata": {},
     "output_type": "execute_result"
    }
   ],
   "source": [
    "#boolean\n",
    "type(True)"
   ]
  },
  {
   "cell_type": "code",
   "execution_count": 22,
   "id": "08b44af1",
   "metadata": {},
   "outputs": [
    {
     "data": {
      "text/plain": [
       "str"
      ]
     },
     "execution_count": 22,
     "metadata": {},
     "output_type": "execute_result"
    }
   ],
   "source": [
    "#string - text\n",
    "type('hello world')"
   ]
  },
  {
   "cell_type": "code",
   "execution_count": 26,
   "id": "a2c43c8d",
   "metadata": {},
   "outputs": [
    {
     "name": "stdout",
     "output_type": "stream",
     "text": [
      "HELLO WORLD\n",
      "hello world\n",
      "Hello World\n"
     ]
    }
   ],
   "source": [
    "#str method - function that must be called on an object\n",
    "print('hello world'.upper())\n",
    "print('Hello World'.lower())\n",
    "print('hello world'.title())"
   ]
  },
  {
   "cell_type": "code",
   "execution_count": 27,
   "id": "44c52048",
   "metadata": {},
   "outputs": [
    {
     "data": {
      "text/plain": [
       "3"
      ]
     },
     "execution_count": 27,
     "metadata": {},
     "output_type": "execute_result"
    }
   ],
   "source": [
    "#str method for counting characters in str\n",
    "'Hello World'.count('l')"
   ]
  },
  {
   "cell_type": "code",
   "execution_count": 30,
   "id": "0f5bd916",
   "metadata": {},
   "outputs": [
    {
     "data": {
      "text/plain": [
       "'Hellhi Whirld'"
      ]
     },
     "execution_count": 30,
     "metadata": {},
     "output_type": "execute_result"
    }
   ],
   "source": [
    "#str method for replacing characters in str\n",
    "'Hello World'.replace('o','hi')"
   ]
  },
  {
   "cell_type": "code",
   "execution_count": 10,
   "id": "ab0d362d",
   "metadata": {},
   "outputs": [
    {
     "name": "stdout",
     "output_type": "stream",
     "text": [
      "hello world\n"
     ]
    }
   ],
   "source": [
    "print('hello world')"
   ]
  },
  {
   "cell_type": "markdown",
   "id": "39b43b6a",
   "metadata": {},
   "source": [
    "# Variables"
   ]
  },
  {
   "cell_type": "code",
   "execution_count": 54,
   "id": "a8fbd8f7",
   "metadata": {},
   "outputs": [],
   "source": [
    "#assigning value to variable\n",
    "message_1 = \"I'm learning python\"\n",
    "message_2 = \"and it's fun!\""
   ]
  },
  {
   "cell_type": "code",
   "execution_count": 55,
   "id": "8f46a8e7",
   "metadata": {},
   "outputs": [
    {
     "data": {
      "text/plain": [
       "\"I'm learning python and it's fun!\""
      ]
     },
     "execution_count": 55,
     "metadata": {},
     "output_type": "execute_result"
    }
   ],
   "source": [
    "#string concatenation\n",
    "message = message_1 + ' ' + message_2\n",
    "message"
   ]
  },
  {
   "cell_type": "code",
   "execution_count": 56,
   "id": "c02b972c",
   "metadata": {},
   "outputs": [
    {
     "data": {
      "text/plain": [
       "\"I'm learning python and it's fun!\""
      ]
     },
     "execution_count": 56,
     "metadata": {},
     "output_type": "execute_result"
    }
   ],
   "source": [
    "#f string method for string concatenation\n",
    "f'{message_1} {message_2}'"
   ]
  },
  {
   "cell_type": "markdown",
   "id": "62cc2864",
   "metadata": {},
   "source": [
    "# List"
   ]
  },
  {
   "cell_type": "markdown",
   "id": "e155dba2",
   "metadata": {},
   "source": [
    "#lists to store multiple items in single variable\n",
    "#mutable - can change their values"
   ]
  },
  {
   "cell_type": "code",
   "execution_count": 58,
   "id": "e09915e0",
   "metadata": {},
   "outputs": [
    {
     "data": {
      "text/plain": [
       "['Australia', 'United States', 'India', 'China']"
      ]
     },
     "execution_count": 58,
     "metadata": {},
     "output_type": "execute_result"
    }
   ],
   "source": [
    "countries = ['Australia','United States','India','China']\n",
    "countries"
   ]
  },
  {
   "cell_type": "code",
   "execution_count": 61,
   "id": "2cebc3ce",
   "metadata": {},
   "outputs": [
    {
     "name": "stdout",
     "output_type": "stream",
     "text": [
      "Australia\n",
      "United States\n",
      "India\n",
      "China\n"
     ]
    }
   ],
   "source": [
    "#return index of list\n",
    "print(countries[0])\n",
    "print(countries[1])\n",
    "print(countries[2])\n",
    "print(countries[3])"
   ]
  },
  {
   "cell_type": "code",
   "execution_count": 64,
   "id": "5b410db4",
   "metadata": {},
   "outputs": [
    {
     "name": "stdout",
     "output_type": "stream",
     "text": [
      "China\n",
      "Australia\n"
     ]
    }
   ],
   "source": [
    "#negative index - start from end of list\n",
    "print(countries[-1])\n",
    "print(countries[-4])"
   ]
  },
  {
   "cell_type": "code",
   "execution_count": 74,
   "id": "6db1e610",
   "metadata": {},
   "outputs": [
    {
     "name": "stdout",
     "output_type": "stream",
     "text": [
      "['United States', 'India']\n",
      "['Australia']\n",
      "['Australia', 'United States', 'India']\n",
      "['India', 'China']\n"
     ]
    }
   ],
   "source": [
    "#slicing - take parts of lists\n",
    "#list_name[start:stop], can omit first (0) and end see below\n",
    "\n",
    "print(countries[1:3])\n",
    "print(countries[0:1])\n",
    "print(countries[:3])\n",
    "print(countries[2:])"
   ]
  },
  {
   "cell_type": "markdown",
   "id": "dd2e063c",
   "metadata": {},
   "source": [
    "### Adding elements to a list"
   ]
  },
  {
   "cell_type": "code",
   "execution_count": 75,
   "id": "aacffaac",
   "metadata": {},
   "outputs": [
    {
     "data": {
      "text/plain": [
       "['Australia', 'United States', 'India', 'China']"
      ]
     },
     "execution_count": 75,
     "metadata": {},
     "output_type": "execute_result"
    }
   ],
   "source": [
    "countries"
   ]
  },
  {
   "cell_type": "code",
   "execution_count": 76,
   "id": "73928f5b",
   "metadata": {},
   "outputs": [
    {
     "data": {
      "text/plain": [
       "['Australia', 'United States', 'India', 'China', 'Canada']"
      ]
     },
     "execution_count": 76,
     "metadata": {},
     "output_type": "execute_result"
    }
   ],
   "source": [
    "#add to end\n",
    "countries.append('Canada')\n",
    "countries"
   ]
  },
  {
   "cell_type": "code",
   "execution_count": 96,
   "id": "a08d34ee",
   "metadata": {},
   "outputs": [
    {
     "data": {
      "text/plain": [
       "['Brazil', 'Australia', 'United States', 'India', 'China']"
      ]
     },
     "execution_count": 96,
     "metadata": {},
     "output_type": "execute_result"
    }
   ],
   "source": [
    "#insert in a certain position\n",
    "countries_1 = ['Australia','United States','India','China']\n",
    "countries_1.insert(0,'Brazil')\n",
    "countries_1"
   ]
  },
  {
   "cell_type": "code",
   "execution_count": 99,
   "id": "b6b3566d",
   "metadata": {},
   "outputs": [
    {
     "data": {
      "text/plain": [
       "['Brazil',\n",
       " 'Australia',\n",
       " 'United States',\n",
       " 'India',\n",
       " 'China',\n",
       " 'United Kingdom',\n",
       " 'Ukraine',\n",
       " 'Japan']"
      ]
     },
     "execution_count": 99,
     "metadata": {},
     "output_type": "execute_result"
    }
   ],
   "source": [
    "countries_2 = ['United Kingdom', 'Ukraine', 'Japan']\n",
    "countries_1 + countries_2"
   ]
  },
  {
   "cell_type": "code",
   "execution_count": 101,
   "id": "c3296cee",
   "metadata": {},
   "outputs": [
    {
     "data": {
      "text/plain": [
       "[['Brazil', 'Australia', 'United States', 'India', 'China'],\n",
       " ['United Kingdom', 'Ukraine', 'Japan']]"
      ]
     },
     "execution_count": 101,
     "metadata": {},
     "output_type": "execute_result"
    }
   ],
   "source": [
    "#nested lists - lists as elements within a list\n",
    "nested_list = [countries_1, countries_2]\n",
    "nested_list"
   ]
  },
  {
   "cell_type": "markdown",
   "id": "bd704706",
   "metadata": {},
   "source": [
    "### Removing elements"
   ]
  },
  {
   "cell_type": "code",
   "execution_count": 112,
   "id": "dc54b566",
   "metadata": {},
   "outputs": [
    {
     "data": {
      "text/plain": [
       "['Australia', 'United States', 'India', 'China']"
      ]
     },
     "execution_count": 112,
     "metadata": {},
     "output_type": "execute_result"
    }
   ],
   "source": [
    "countries = ['Australia','United States','India','China']\n",
    "countries"
   ]
  },
  {
   "cell_type": "code",
   "execution_count": 113,
   "id": "c6c883eb",
   "metadata": {},
   "outputs": [
    {
     "data": {
      "text/plain": [
       "['Australia', 'India', 'China']"
      ]
     },
     "execution_count": 113,
     "metadata": {},
     "output_type": "execute_result"
    }
   ],
   "source": [
    "countries.remove('United States')\n",
    "countries"
   ]
  },
  {
   "cell_type": "code",
   "execution_count": 114,
   "id": "2e9ec80a",
   "metadata": {},
   "outputs": [
    {
     "data": {
      "text/plain": [
       "'Australia'"
      ]
     },
     "execution_count": 114,
     "metadata": {},
     "output_type": "execute_result"
    }
   ],
   "source": [
    "#remove using index\n",
    "countries.pop(0)"
   ]
  },
  {
   "cell_type": "code",
   "execution_count": 116,
   "id": "4366d07e",
   "metadata": {},
   "outputs": [
    {
     "data": {
      "text/plain": [
       "['India', 'China']"
      ]
     },
     "execution_count": 116,
     "metadata": {},
     "output_type": "execute_result"
    }
   ],
   "source": [
    "countries"
   ]
  },
  {
   "cell_type": "code",
   "execution_count": 117,
   "id": "c68267fb",
   "metadata": {},
   "outputs": [
    {
     "data": {
      "text/plain": [
       "['China']"
      ]
     },
     "execution_count": 117,
     "metadata": {},
     "output_type": "execute_result"
    }
   ],
   "source": [
    "del countries[0]\n",
    "countries"
   ]
  },
  {
   "cell_type": "markdown",
   "id": "851306d8",
   "metadata": {},
   "source": [
    "### Sorting a list "
   ]
  },
  {
   "cell_type": "code",
   "execution_count": 119,
   "id": "50ebfacc",
   "metadata": {},
   "outputs": [],
   "source": [
    "numbers = [4, 3, 10, 7, 1, 2, 6]"
   ]
  },
  {
   "cell_type": "code",
   "execution_count": 120,
   "id": "a208344e",
   "metadata": {},
   "outputs": [
    {
     "data": {
      "text/plain": [
       "[1, 2, 3, 4, 6, 7, 10]"
      ]
     },
     "execution_count": 120,
     "metadata": {},
     "output_type": "execute_result"
    }
   ],
   "source": [
    "numbers.sort()\n",
    "numbers"
   ]
  },
  {
   "cell_type": "code",
   "execution_count": 126,
   "id": "de55f42b",
   "metadata": {},
   "outputs": [
    {
     "name": "stdout",
     "output_type": "stream",
     "text": [
      "[10, 7, 6, 4, 3, 2, 1]\n"
     ]
    }
   ],
   "source": [
    "numbers.sort(reverse=True)\n",
    "print(numbers)"
   ]
  },
  {
   "cell_type": "markdown",
   "id": "134a1d99",
   "metadata": {},
   "source": [
    "### Updating an element"
   ]
  },
  {
   "cell_type": "code",
   "execution_count": 127,
   "id": "1077ab78",
   "metadata": {},
   "outputs": [],
   "source": [
    "numbers[0]=100"
   ]
  },
  {
   "cell_type": "code",
   "execution_count": 128,
   "id": "39dd9ba9",
   "metadata": {},
   "outputs": [
    {
     "data": {
      "text/plain": [
       "[100, 7, 6, 4, 3, 2, 1]"
      ]
     },
     "execution_count": 128,
     "metadata": {},
     "output_type": "execute_result"
    }
   ],
   "source": [
    "numbers"
   ]
  },
  {
   "cell_type": "markdown",
   "id": "66107072",
   "metadata": {},
   "source": [
    "### Copying a list"
   ]
  },
  {
   "cell_type": "code",
   "execution_count": 134,
   "id": "65ab1a8d",
   "metadata": {},
   "outputs": [
    {
     "data": {
      "text/plain": [
       "['Australia', 'United States', 'India', 'China']"
      ]
     },
     "execution_count": 134,
     "metadata": {},
     "output_type": "execute_result"
    }
   ],
   "source": [
    "countries = ['Australia','United States','India','China']\n",
    "new_list = countries[:]\n",
    "new_list"
   ]
  },
  {
   "cell_type": "code",
   "execution_count": 137,
   "id": "5524e17b",
   "metadata": {},
   "outputs": [
    {
     "data": {
      "text/plain": [
       "['Australia', 'United States', 'India', 'China']"
      ]
     },
     "execution_count": 137,
     "metadata": {},
     "output_type": "execute_result"
    }
   ],
   "source": [
    "new_list2 = countries.copy()\n",
    "new_list2"
   ]
  },
  {
   "cell_type": "markdown",
   "id": "3cd66ba0",
   "metadata": {},
   "source": [
    "## Dictionary"
   ]
  },
  {
   "cell_type": "code",
   "execution_count": 149,
   "id": "6984c216",
   "metadata": {},
   "outputs": [],
   "source": [
    "# dict = {'key1':'value','key2':'value'}"
   ]
  },
  {
   "cell_type": "code",
   "execution_count": 150,
   "id": "0c097626",
   "metadata": {},
   "outputs": [],
   "source": [
    "my_data = {'name':'Naz','age':26}"
   ]
  },
  {
   "cell_type": "code",
   "execution_count": 151,
   "id": "41e06742",
   "metadata": {},
   "outputs": [
    {
     "data": {
      "text/plain": [
       "dict_keys(['name', 'age'])"
      ]
     },
     "execution_count": 151,
     "metadata": {},
     "output_type": "execute_result"
    }
   ],
   "source": [
    "my_data.keys()"
   ]
  },
  {
   "cell_type": "code",
   "execution_count": 152,
   "id": "6d14a195",
   "metadata": {},
   "outputs": [
    {
     "data": {
      "text/plain": [
       "dict_values(['Naz', 26])"
      ]
     },
     "execution_count": 152,
     "metadata": {},
     "output_type": "execute_result"
    }
   ],
   "source": [
    "my_data.values()"
   ]
  },
  {
   "cell_type": "code",
   "execution_count": 153,
   "id": "891f2a01",
   "metadata": {},
   "outputs": [
    {
     "data": {
      "text/plain": [
       "dict_items([('name', 'Naz'), ('age', 26)])"
      ]
     },
     "execution_count": 153,
     "metadata": {},
     "output_type": "execute_result"
    }
   ],
   "source": [
    "my_data.items()"
   ]
  },
  {
   "cell_type": "code",
   "execution_count": 156,
   "id": "ed5f2899",
   "metadata": {},
   "outputs": [
    {
     "data": {
      "text/plain": [
       "{'name': 'Naz', 'age': 26, 'height': 1.7}"
      ]
     },
     "execution_count": 156,
     "metadata": {},
     "output_type": "execute_result"
    }
   ],
   "source": [
    "my_data['height'] = 1.7\n",
    "my_data"
   ]
  },
  {
   "cell_type": "code",
   "execution_count": 157,
   "id": "bc476a51",
   "metadata": {},
   "outputs": [
    {
     "data": {
      "text/plain": [
       "{'name': 'Naz', 'age': 26, 'height': 1.9}"
      ]
     },
     "execution_count": 157,
     "metadata": {},
     "output_type": "execute_result"
    }
   ],
   "source": [
    "my_data.update({'height':1.9})\n",
    "my_data"
   ]
  },
  {
   "cell_type": "markdown",
   "id": "7151e469",
   "metadata": {},
   "source": [
    "### Copying a dictionary"
   ]
  },
  {
   "cell_type": "code",
   "execution_count": 158,
   "id": "4a2d490f",
   "metadata": {},
   "outputs": [
    {
     "data": {
      "text/plain": [
       "{'name': 'Naz', 'age': 26, 'height': 1.9}"
      ]
     },
     "execution_count": 158,
     "metadata": {},
     "output_type": "execute_result"
    }
   ],
   "source": [
    "new_dict = my_data.copy()\n",
    "new_dict"
   ]
  },
  {
   "cell_type": "code",
   "execution_count": null,
   "id": "57fe3c93",
   "metadata": {},
   "outputs": [],
   "source": [
    "# note\n",
    "# if you copy like above it will work independently of the other variable"
   ]
  },
  {
   "cell_type": "markdown",
   "id": "26dfffe6",
   "metadata": {},
   "source": [
    "### Removing elements in dictionary"
   ]
  },
  {
   "cell_type": "code",
   "execution_count": 159,
   "id": "feb26e8d",
   "metadata": {},
   "outputs": [
    {
     "data": {
      "text/plain": [
       "'Naz'"
      ]
     },
     "execution_count": 159,
     "metadata": {},
     "output_type": "execute_result"
    }
   ],
   "source": [
    "my_data.pop('name')"
   ]
  },
  {
   "cell_type": "code",
   "execution_count": 160,
   "id": "e86db940",
   "metadata": {},
   "outputs": [
    {
     "data": {
      "text/plain": [
       "{'age': 26, 'height': 1.9}"
      ]
     },
     "execution_count": 160,
     "metadata": {},
     "output_type": "execute_result"
    }
   ],
   "source": [
    "my_data"
   ]
  },
  {
   "cell_type": "code",
   "execution_count": 163,
   "id": "897cffcd",
   "metadata": {},
   "outputs": [
    {
     "data": {
      "text/plain": [
       "{'age': 26, 'height': 1.9, 'name': 'Naz'}"
      ]
     },
     "execution_count": 163,
     "metadata": {},
     "output_type": "execute_result"
    }
   ],
   "source": [
    "my_data.update({'name':'Naz'})\n",
    "my_data"
   ]
  },
  {
   "cell_type": "code",
   "execution_count": 164,
   "id": "b041c399",
   "metadata": {},
   "outputs": [
    {
     "data": {
      "text/plain": [
       "{'height': 1.9, 'name': 'Naz'}"
      ]
     },
     "execution_count": 164,
     "metadata": {},
     "output_type": "execute_result"
    }
   ],
   "source": [
    "del my_data['age']\n",
    "my_data"
   ]
  },
  {
   "cell_type": "code",
   "execution_count": 165,
   "id": "deb6eb68",
   "metadata": {},
   "outputs": [
    {
     "data": {
      "text/plain": [
       "{}"
      ]
     },
     "execution_count": 165,
     "metadata": {},
     "output_type": "execute_result"
    }
   ],
   "source": [
    "#delete everything\n",
    "my_data.clear()\n",
    "my_data"
   ]
  },
  {
   "cell_type": "markdown",
   "id": "e42e1d3b",
   "metadata": {},
   "source": [
    "## IF statements"
   ]
  },
  {
   "cell_type": "code",
   "execution_count": null,
   "id": "a920c927",
   "metadata": {},
   "outputs": [],
   "source": [
    "# if <condition>: --- is true\n",
    "#    <code> --- will be executed\n",
    "# elif <condition>: --- if above is false test this condition\n",
    "#    <code> --- if true will execute\n",
    "# ... --- can have more elifs\n",
    "# else:\n",
    "#    <code> --- executes if all above is false"
   ]
  },
  {
   "cell_type": "code",
   "execution_count": 172,
   "id": "bed9c310",
   "metadata": {},
   "outputs": [
    {
     "name": "stdout",
     "output_type": "stream",
     "text": [
      "You are an adult\n"
     ]
    }
   ],
   "source": [
    "age = 20\n",
    "\n",
    "if age>=18:\n",
    "    print('You are an adult')\n",
    "elif age>=13:\n",
    "    print('You are a teenager')\n",
    "elif age<=3:\n",
    "    print('You are a baby')\n",
    "else:\n",
    "    print('You are a child')\n"
   ]
  },
  {
   "cell_type": "markdown",
   "id": "2520b245",
   "metadata": {},
   "source": [
    "## For Loop"
   ]
  },
  {
   "cell_type": "code",
   "execution_count": null,
   "id": "bc973193",
   "metadata": {},
   "outputs": [],
   "source": [
    "# for <variable> in <list>: (an 'iterable')\n",
    "#     <code>"
   ]
  },
  {
   "cell_type": "code",
   "execution_count": 173,
   "id": "a8de3406",
   "metadata": {},
   "outputs": [
    {
     "data": {
      "text/plain": [
       "['Australia', 'United States', 'India', 'China']"
      ]
     },
     "execution_count": 173,
     "metadata": {},
     "output_type": "execute_result"
    }
   ],
   "source": [
    "countries"
   ]
  },
  {
   "cell_type": "code",
   "execution_count": 178,
   "id": "78014eae",
   "metadata": {},
   "outputs": [
    {
     "name": "stdout",
     "output_type": "stream",
     "text": [
      "0\n",
      "Australia\n",
      "1\n",
      "United States\n",
      "2\n",
      "India\n",
      "3\n",
      "China\n"
     ]
    }
   ],
   "source": [
    "# i variable created - index of loop\n",
    "# country variable created - items in list\n",
    "for i,country in enumerate(countries):\n",
    "    print(i)\n",
    "    print(country)"
   ]
  },
  {
   "cell_type": "code",
   "execution_count": 181,
   "id": "1f88883d",
   "metadata": {},
   "outputs": [
    {
     "data": {
      "text/plain": [
       "{'name': 'Naz', 'age': 26}"
      ]
     },
     "execution_count": 181,
     "metadata": {},
     "output_type": "execute_result"
    }
   ],
   "source": [
    "# dict = {'key1':'value','key2':'value'}\n",
    "\n",
    "my_data = {'name':'Naz','age':26}\n",
    "my_data"
   ]
  },
  {
   "cell_type": "code",
   "execution_count": 182,
   "id": "23708a19",
   "metadata": {},
   "outputs": [
    {
     "name": "stdout",
     "output_type": "stream",
     "text": [
      "name\n",
      "Naz\n",
      "age\n",
      "26\n"
     ]
    }
   ],
   "source": [
    "for key, value in my_data.items():\n",
    "    print(key)\n",
    "    print(value)"
   ]
  },
  {
   "cell_type": "markdown",
   "id": "0bb15074",
   "metadata": {},
   "source": [
    "## Defining a function"
   ]
  },
  {
   "cell_type": "code",
   "execution_count": null,
   "id": "1c0dad94",
   "metadata": {},
   "outputs": [],
   "source": [
    "# def function(<params>):\n",
    "#     <code>\n",
    "#     return <data>"
   ]
  },
  {
   "cell_type": "code",
   "execution_count": 183,
   "id": "edb8d753",
   "metadata": {},
   "outputs": [],
   "source": [
    "def sum_values(a, b):\n",
    "    x = a + b\n",
    "    return x"
   ]
  },
  {
   "cell_type": "code",
   "execution_count": 186,
   "id": "f5515276",
   "metadata": {},
   "outputs": [
    {
     "data": {
      "text/plain": [
       "4"
      ]
     },
     "execution_count": 186,
     "metadata": {},
     "output_type": "execute_result"
    }
   ],
   "source": [
    "sum_values(1,3)"
   ]
  },
  {
   "cell_type": "markdown",
   "id": "caf9f784",
   "metadata": {},
   "source": [
    "### Python built-in functions"
   ]
  },
  {
   "cell_type": "code",
   "execution_count": 188,
   "id": "c0440c29",
   "metadata": {},
   "outputs": [
    {
     "name": "stdout",
     "output_type": "stream",
     "text": [
      "['Australia', 'United States', 'India', 'China']\n"
     ]
    },
    {
     "data": {
      "text/plain": [
       "4"
      ]
     },
     "execution_count": 188,
     "metadata": {},
     "output_type": "execute_result"
    }
   ],
   "source": [
    "print(countries)\n",
    "len(countries)"
   ]
  },
  {
   "cell_type": "code",
   "execution_count": 189,
   "id": "93511e2c",
   "metadata": {},
   "outputs": [
    {
     "data": {
      "text/plain": [
       "12439"
      ]
     },
     "execution_count": 189,
     "metadata": {},
     "output_type": "execute_result"
    }
   ],
   "source": [
    "max([10,69,1243,99,12439])"
   ]
  },
  {
   "cell_type": "code",
   "execution_count": 190,
   "id": "68af1d29",
   "metadata": {},
   "outputs": [
    {
     "data": {
      "text/plain": [
       "10"
      ]
     },
     "execution_count": 190,
     "metadata": {},
     "output_type": "execute_result"
    }
   ],
   "source": [
    "min([10,69,1243,99,12439])"
   ]
  },
  {
   "cell_type": "code",
   "execution_count": 198,
   "id": "75901dfd",
   "metadata": {},
   "outputs": [
    {
     "data": {
      "text/plain": [
       "list"
      ]
     },
     "execution_count": 198,
     "metadata": {},
     "output_type": "execute_result"
    }
   ],
   "source": [
    "type(countries)"
   ]
  },
  {
   "cell_type": "code",
   "execution_count": 200,
   "id": "2c2cf2f3",
   "metadata": {},
   "outputs": [
    {
     "name": "stdout",
     "output_type": "stream",
     "text": [
      "0\n",
      "2\n",
      "4\n",
      "6\n",
      "8\n"
     ]
    }
   ],
   "source": [
    "#iterating in a range\n",
    "#first is 0, last is 10, going up by increment of 2\n",
    "for i in range(0,10,2):\n",
    "    print(i)"
   ]
  },
  {
   "cell_type": "markdown",
   "id": "5a75c6e9",
   "metadata": {},
   "source": [
    "## Modules"
   ]
  },
  {
   "cell_type": "code",
   "execution_count": null,
   "id": "77f5deb4",
   "metadata": {},
   "outputs": [],
   "source": [
    "# module is file that contains python code\n",
    "# e.g. classes, functions, variables, runnable code"
   ]
  },
  {
   "cell_type": "markdown",
   "id": "1ef638ac",
   "metadata": {},
   "source": [
    "### OS module"
   ]
  },
  {
   "cell_type": "code",
   "execution_count": 201,
   "id": "0231cb39",
   "metadata": {},
   "outputs": [],
   "source": [
    "import os"
   ]
  },
  {
   "cell_type": "code",
   "execution_count": 202,
   "id": "52713636",
   "metadata": {},
   "outputs": [
    {
     "data": {
      "text/plain": [
       "'/Users/nazmuspradhan/AnacondaProjects'"
      ]
     },
     "execution_count": 202,
     "metadata": {},
     "output_type": "execute_result"
    }
   ],
   "source": [
    "# get current working directory\n",
    "os.getcwd()"
   ]
  },
  {
   "cell_type": "code",
   "execution_count": 203,
   "id": "42396589",
   "metadata": {},
   "outputs": [
    {
     "data": {
      "text/plain": [
       "['introduction.ipynb', '.ipynb_checkpoints']"
      ]
     },
     "execution_count": 203,
     "metadata": {},
     "output_type": "execute_result"
    }
   ],
   "source": [
    "#get list directory - files in current folder\n",
    "os.listdir()"
   ]
  },
  {
   "cell_type": "code",
   "execution_count": 204,
   "id": "3e9e7de6",
   "metadata": {},
   "outputs": [],
   "source": [
    "# create a folder \n",
    "os.makedirs(\"New Folder\")"
   ]
  },
  {
   "cell_type": "code",
   "execution_count": 205,
   "id": "9ea56dc7",
   "metadata": {},
   "outputs": [
    {
     "data": {
      "text/plain": [
       "['introduction.ipynb', 'New Folder', '.ipynb_checkpoints']"
      ]
     },
     "execution_count": 205,
     "metadata": {},
     "output_type": "execute_result"
    }
   ],
   "source": [
    "os.listdir()"
   ]
  }
 ],
 "metadata": {
  "kernelspec": {
   "display_name": "Python 3 (ipykernel)",
   "language": "python",
   "name": "python3"
  },
  "language_info": {
   "codemirror_mode": {
    "name": "ipython",
    "version": 3
   },
   "file_extension": ".py",
   "mimetype": "text/x-python",
   "name": "python",
   "nbconvert_exporter": "python",
   "pygments_lexer": "ipython3",
   "version": "3.9.7"
  }
 },
 "nbformat": 4,
 "nbformat_minor": 5
}
